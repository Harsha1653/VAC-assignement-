{
 "cells": [
  {
   "cell_type": "code",
   "execution_count": 24,
   "id": "4ca281f0",
   "metadata": {},
   "outputs": [
    {
     "name": "stdout",
     "output_type": "stream",
     "text": [
      "Requirement already satisfied: bs4 in c:\\users\\hp\\anaconda3\\lib\\site-packages (0.0.1)\n",
      "Requirement already satisfied: beautifulsoup4 in c:\\users\\hp\\anaconda3\\lib\\site-packages (from bs4) (4.10.0)\n",
      "Requirement already satisfied: soupsieve>1.2 in c:\\users\\hp\\anaconda3\\lib\\site-packages (from beautifulsoup4->bs4) (2.2.1)\n",
      "Note: you may need to restart the kernel to use updated packages.\n"
     ]
    }
   ],
   "source": [
    "pip install bs4"
   ]
  },
  {
   "cell_type": "code",
   "execution_count": 25,
   "id": "6d3cddd8",
   "metadata": {},
   "outputs": [
    {
     "name": "stdout",
     "output_type": "stream",
     "text": [
      "Requirement already satisfied: requests in c:\\users\\hp\\anaconda3\\lib\\site-packages (2.26.0)\n",
      "Requirement already satisfied: idna<4,>=2.5 in c:\\users\\hp\\anaconda3\\lib\\site-packages (from requests) (3.2)\n",
      "Requirement already satisfied: charset-normalizer~=2.0.0 in c:\\users\\hp\\anaconda3\\lib\\site-packages (from requests) (2.0.4)\n",
      "Requirement already satisfied: urllib3<1.27,>=1.21.1 in c:\\users\\hp\\anaconda3\\lib\\site-packages (from requests) (1.26.7)\n",
      "Requirement already satisfied: certifi>=2017.4.17 in c:\\users\\hp\\anaconda3\\lib\\site-packages (from requests) (2021.10.8)\n",
      "Note: you may need to restart the kernel to use updated packages.\n"
     ]
    }
   ],
   "source": [
    "pip install requests"
   ]
  },
  {
   "cell_type": "code",
   "execution_count": 26,
   "id": "6ea3eea4",
   "metadata": {},
   "outputs": [],
   "source": [
    "from bs4 import BeautifulSoup"
   ]
  },
  {
   "cell_type": "code",
   "execution_count": 27,
   "id": "fec9bda0",
   "metadata": {},
   "outputs": [],
   "source": [
    "import requests"
   ]
  },
  {
   "cell_type": "code",
   "execution_count": 29,
   "id": "9a990798",
   "metadata": {},
   "outputs": [],
   "source": [
    "url=\"https://www.flipkart.com/beauty-and-grooming/makeup/face-makeup/pr?sid=g9b,ffi,dzu&otracker=categorytree\""
   ]
  },
  {
   "cell_type": "code",
   "execution_count": 30,
   "id": "f1e06740",
   "metadata": {},
   "outputs": [],
   "source": [
    "allow = requests.get(url)"
   ]
  },
  {
   "cell_type": "code",
   "execution_count": 31,
   "id": "e838eacd",
   "metadata": {},
   "outputs": [
    {
     "name": "stdout",
     "output_type": "stream",
     "text": [
      "<Response [200]>\n"
     ]
    }
   ],
   "source": [
    "print(allow)"
   ]
  },
  {
   "cell_type": "code",
   "execution_count": 32,
   "id": "6c57eb07",
   "metadata": {},
   "outputs": [],
   "source": [
    "soup = BeautifulSoup(allow.text)"
   ]
  },
  {
   "cell_type": "code",
   "execution_count": 35,
   "id": "06cf7454",
   "metadata": {},
   "outputs": [],
   "source": [
    "product_name = soup.select (\".s1Q9rs\")"
   ]
  },
  {
   "cell_type": "code",
   "execution_count": 36,
   "id": "8354c334",
   "metadata": {},
   "outputs": [
    {
     "data": {
      "text/plain": [
       "[<a class=\"s1Q9rs\" href=\"/lakm-invisible-finish-spf-8-foundation/p/itm5b9fe7cd872f9?pid=FNDD9YJCMJHHFYPG&amp;lid=LSTFNDD9YJCMJHHFYPG2AOJSP&amp;marketplace=FLIPKART&amp;store=g9b%2Fffi%2Fdzu&amp;srno=b_1_1&amp;otracker=browse&amp;fm=organic&amp;iid=en_62zjlOUbGRmfR%2BzMyK7hDm6tpfPMWQ8Gy1sAiOOAP5nrf7iwZWKB2%2BG1I%2Bn8%2FnMnwZFUADSecg%2F%2BWsfNg10m2w%3D%3D&amp;ppt=None&amp;ppn=None&amp;ssid=v56wk2lk5s0000001653931805585\" rel=\"noopener noreferrer\" target=\"_blank\" title=\"Lakmé Invisible Finish SPF 8 Foundation\">Lakmé Invisible Finish SPF 8 Foundation</a>,\n",
       " <a class=\"s1Q9rs\" href=\"/lakm-absolute-blur-perfect-primer-30-g/p/itmej8w3y3zuqqp7?pid=PRMEJ8W3GKJ653SB&amp;lid=LSTPRMEJ8W3GKJ653SB3HG6ZD&amp;marketplace=FLIPKART&amp;store=g9b%2Fffi%2Fdzu&amp;srno=b_1_2&amp;otracker=browse&amp;fm=organic&amp;iid=en_62zjlOUbGRmfR%2BzMyK7hDm6tpfPMWQ8Gy1sAiOOAP5lHKML9iTcLXsxfIPBjKU0afOHUlbr7OdoKsGgzr0Naaw%3D%3D&amp;ppt=None&amp;ppn=None&amp;ssid=v56wk2lk5s0000001653931805585\" rel=\"noopener noreferrer\" target=\"_blank\" title=\"Lakmé Absolute Blur Perfect Primer  - 30 g\">Lakmé Absolute Blur Perfect Primer  - 30 g</a>,\n",
       " <a class=\"s1Q9rs\" href=\"/lakm-face-compact-marble/p/itm0d3d9f2faa013?pid=CMPG5K3DFN9XC4SS&amp;lid=LSTCMPG5K3DFN9XC4SS5AWAI6&amp;marketplace=FLIPKART&amp;store=g9b%2Fffi%2Fdzu&amp;srno=b_1_3&amp;otracker=browse&amp;fm=organic&amp;iid=2ebc1706-fc97-456e-b25c-cd34d1e47599.CMPG5K3DFN9XC4SS.SEARCH&amp;ppt=None&amp;ppn=None&amp;ssid=v56wk2lk5s0000001653931805585\" rel=\"noopener noreferrer\" target=\"_blank\" title=\"Lakmé Face It Compact Marble Compact\">Lakmé Face It Compact Marble Compact</a>,\n",
       " <a class=\"s1Q9rs\" href=\"/lakm-sun-expert-ultra-matte-spf40-pa-1-units-compact/p/itm27a0ab41bef84?pid=CMPF28HGFTCXRZGH&amp;lid=LSTCMPF28HGFTCXRZGHRHBFOF&amp;marketplace=FLIPKART&amp;store=g9b%2Fffi%2Fdzu&amp;srno=b_1_4&amp;otracker=browse&amp;fm=organic&amp;iid=2ebc1706-fc97-456e-b25c-cd34d1e47599.CMPF28HGFTCXRZGH.SEARCH&amp;ppt=None&amp;ppn=None&amp;ssid=v56wk2lk5s0000001653931805585\" rel=\"noopener noreferrer\" target=\"_blank\" title=\"Lakmé Sun Expert Ultra Matte SPF40 PA+++ 1 units Compact\">Lakmé Sun Expert Ultra Matte SPF40 PA+++ 1 units Compac...</a>,\n",
       " <a class=\"s1Q9rs\" href=\"/lakm-9-5-naturale-aloe-aqua-gel-primer-50-g/p/itmf4yxbsnk7fvtw?pid=PRMF4YXBUZRGYKDC&amp;lid=LSTPRMF4YXBUZRGYKDC83LOXU&amp;marketplace=FLIPKART&amp;store=g9b%2Fffi%2Fdzu&amp;srno=b_1_5&amp;otracker=browse&amp;fm=organic&amp;iid=2ebc1706-fc97-456e-b25c-cd34d1e47599.PRMF4YXBUZRGYKDC.SEARCH&amp;ppt=None&amp;ppn=None&amp;ssid=v56wk2lk5s0000001653931805585\" rel=\"noopener noreferrer\" target=\"_blank\" title=\"Lakmé 9 to 5 Naturale Aloe Aqua Gel Primer  - 50 g\">Lakmé 9 to 5 Naturale Aloe Aqua Gel Primer  - 50 g</a>,\n",
       " <a class=\"s1Q9rs\" href=\"/maybelline-new-york-fit-me-shade-230-compact-powder-8g-powder-protects-skin-sun-absorbs-oil-sweat-helps-you-stay-fresh-upto-12hrs/p/itmbebb94d872c6a?pid=CMPFYGQPZQ9YHFHY&amp;lid=LSTCMPFYGQPZQ9YHFHYZ9WJFI&amp;marketplace=FLIPKART&amp;store=g9b%2Fffi%2Fdzu&amp;srno=b_1_6&amp;otracker=browse&amp;fm=organic&amp;iid=2ebc1706-fc97-456e-b25c-cd34d1e47599.CMPFYGQPZQ9YHFHY.SEARCH&amp;ppt=None&amp;ppn=None&amp;ssid=v56wk2lk5s0000001653931805585\" rel=\"noopener noreferrer\" target=\"_blank\" title=\"MAYBELLINE NEW YORK Fit Me Shade 230 Compact Powder, 8g - Powder that Protects Skin from Sun, Absorbs Oil, Sweat and helps you to stay fresh for upto 12Hrs Compact\">MAYBELLINE NEW YORK Fit Me Shade 230 Compact Powder, 8g...</a>,\n",
       " <a class=\"s1Q9rs\" href=\"/maybelline-new-york-fit-me-shade-128-compact-powder-8g-powder-protects-skin-sun-absorbs-oil-sweat-helps-you-stay-fresh-upto-12hrs/p/itm9534e186045ba?pid=CMPFYGQZTXF5MRS6&amp;lid=LSTCMPFYGQZTXF5MRS6JK6IFW&amp;marketplace=FLIPKART&amp;store=g9b%2Fffi%2Fdzu&amp;srno=b_1_7&amp;otracker=browse&amp;fm=organic&amp;iid=2ebc1706-fc97-456e-b25c-cd34d1e47599.CMPFYGQZTXF5MRS6.SEARCH&amp;ppt=None&amp;ppn=None&amp;ssid=v56wk2lk5s0000001653931805585\" rel=\"noopener noreferrer\" target=\"_blank\" title=\"MAYBELLINE NEW YORK Fit Me Shade 128 Compact Powder, 8g - Powder that Protects Skin from Sun, Absorbs Oil, Sweat and helps you to stay fresh for upto 12Hrs Compact\">MAYBELLINE NEW YORK Fit Me Shade 128 Compact Powder, 8g...</a>,\n",
       " <a class=\"s1Q9rs\" href=\"/marie-claire-paris-spf-45-matte-compact/p/itmceaa0302af287?pid=CMPG44YVZBS5FPU6&amp;lid=LSTCMPG44YVZBS5FPU6XH0MD1&amp;marketplace=FLIPKART&amp;store=g9b%2Fffi%2Fdzu&amp;srno=b_1_8&amp;otracker=browse&amp;fm=organic&amp;iid=en_62zjlOUbGRmfR%2BzMyK7hDm6tpfPMWQ8Gy1sAiOOAP5kPlyEf7oWEWpngOTD40AegEgHo6Uue%2BiuetcLNcBjpSg%3D%3D&amp;ppt=None&amp;ppn=None&amp;ssid=v56wk2lk5s0000001653931805585\" rel=\"noopener noreferrer\" target=\"_blank\" title=\"Marie Claire Paris SPF 45 Matte Compact\">Marie Claire Paris SPF 45 Matte Compact</a>,\n",
       " <a class=\"s1Q9rs\" href=\"/lakm-perfect-radiance-compact/p/itmfe26ef2eccf1a?pid=CMPDJEVHPTFPZXS6&amp;lid=LSTCMPDJEVHPTFPZXS6OAKW8P&amp;marketplace=GROCERY&amp;store=g9b%2Fffi%2Fdzu&amp;srno=b_1_9&amp;otracker=browse&amp;fm=organic&amp;iid=2ebc1706-fc97-456e-b25c-cd34d1e47599.CMPDJEVHPTFPZXS6.SEARCH&amp;ppt=None&amp;ppn=None&amp;ssid=v56wk2lk5s0000001653931805585\" rel=\"noopener noreferrer\" target=\"_blank\" title=\"Lakmé Perfect Radiance Compact\">Lakmé Perfect Radiance Compact</a>,\n",
       " <a class=\"s1Q9rs\" href=\"/lakm-9-5-complexion-care-face-cream-bronze-foundation/p/itm793e65efdc0e1?pid=FRNEGG5M5GNH7TZW&amp;lid=LSTFRNEGG5M5GNH7TZWUFU1XS&amp;marketplace=FLIPKART&amp;store=g9b%2Fffi%2Fdzu&amp;spotlightTagId=BestsellerId_g9b%2Fffi%2Fdzu&amp;srno=b_1_10&amp;otracker=browse&amp;fm=organic&amp;iid=2ebc1706-fc97-456e-b25c-cd34d1e47599.FRNEGG5M5GNH7TZW.SEARCH&amp;ppt=None&amp;ppn=None&amp;ssid=v56wk2lk5s0000001653931805585\" rel=\"noopener noreferrer\" target=\"_blank\" title=\"Lakmé 9 to 5 Complexion Care Face Cream - Bronze Foundation\">Lakmé 9 to 5 Complexion Care Face Cream - Bronze Founda...</a>,\n",
       " <a class=\"s1Q9rs\" href=\"/lakm-9-5-complexion-care-face-cream-beige-foundation/p/itm75cf5003a73ff?pid=FRNEGG5M27YQ99MU&amp;lid=LSTFRNEGG5M27YQ99MUZTPW0Q&amp;marketplace=GROCERY&amp;store=g9b%2Fffi%2Fdzu&amp;srno=b_1_11&amp;otracker=browse&amp;fm=organic&amp;iid=2ebc1706-fc97-456e-b25c-cd34d1e47599.FRNEGG5M27YQ99MU.SEARCH&amp;ppt=None&amp;ppn=None&amp;ssid=v56wk2lk5s0000001653931805585\" rel=\"noopener noreferrer\" target=\"_blank\" title=\"Lakmé 9 to 5 Complexion Care Face Cream - Beige Foundation\">Lakmé 9 to 5 Complexion Care Face Cream - Beige Foundat...</a>,\n",
       " <a class=\"s1Q9rs\" href=\"/earth-rhythm-makeup-removal-reusable-cleansing-pads-easily-removes-face-eye-pack-2-remover/p/itmc7ed4e11e9b5b?pid=MURGDSHBDXDCDC4W&amp;lid=LSTMURGDSHBDXDCDC4WPW2NM4&amp;marketplace=FLIPKART&amp;store=g9b%2Fffi%2Fdzu&amp;srno=b_1_12&amp;otracker=browse&amp;fm=organic&amp;iid=en_62zjlOUbGRmfR%2BzMyK7hDm6tpfPMWQ8Gy1sAiOOAP5mmWurEfhxc5VQP2ZtsywCfuhJR91Pmkg22NDn279PVKA%3D%3D&amp;ppt=None&amp;ppn=None&amp;ssid=v56wk2lk5s0000001653931805585\" rel=\"noopener noreferrer\" target=\"_blank\" title=\"Earth Rhythm Makeup Removal Reusable Cleansing Pads, Easily Removes Face &amp; Eye (Pack of 2) Makeup Remover\">Earth Rhythm Makeup Removal Reusable Cleansing Pads, Ea...</a>,\n",
       " <a class=\"s1Q9rs\" href=\"/lakm-face-compact-pearl/p/itm44c813f019248?pid=CMPG5K3DYPJBSZK3&amp;lid=LSTCMPG5K3DYPJBSZK3QYQGGI&amp;marketplace=FLIPKART&amp;store=g9b%2Fffi%2Fdzu&amp;srno=b_1_13&amp;otracker=browse&amp;fm=organic&amp;iid=2ebc1706-fc97-456e-b25c-cd34d1e47599.CMPG5K3DYPJBSZK3.SEARCH&amp;ppt=None&amp;ppn=None&amp;ssid=v56wk2lk5s0000001653931805585\" rel=\"noopener noreferrer\" target=\"_blank\" title=\"Lakmé Face It Compact Pearl Compact\">Lakmé Face It Compact Pearl Compact</a>,\n",
       " <a class=\"s1Q9rs\" href=\"/maybelline-new-york-fit-me-shade-115-compact-powder-8g-powder-protects-skin-sun-absorbs-oil-sweat-helps-you-stay-fresh-upto-12hrs/p/itm05401c2507947?pid=CMPFYGQZTEZFMXBJ&amp;lid=LSTCMPFYGQZTEZFMXBJWLXUH2&amp;marketplace=FLIPKART&amp;store=g9b%2Fffi%2Fdzu&amp;srno=b_1_14&amp;otracker=browse&amp;fm=organic&amp;iid=2ebc1706-fc97-456e-b25c-cd34d1e47599.CMPFYGQZTEZFMXBJ.SEARCH&amp;ppt=None&amp;ppn=None&amp;ssid=v56wk2lk5s0000001653931805585\" rel=\"noopener noreferrer\" target=\"_blank\" title=\"MAYBELLINE NEW YORK Fit Me Shade 115 Compact Powder, 8g - Powder that Protects Skin from Sun, Absorbs Oil, Sweat and helps you to stay fresh for upto 12Hrs Compact\">MAYBELLINE NEW YORK Fit Me Shade 115 Compact Powder, 8g...</a>,\n",
       " <a class=\"s1Q9rs\" href=\"/lakm-perfecting-liquid-foundation/p/itm6af3c8f9c6841?pid=FNDD9YJCCNXSYVVW&amp;lid=LSTFNDD9YJCCNXSYVVWMBLIBE&amp;marketplace=FLIPKART&amp;store=g9b%2Fffi%2Fdzu&amp;srno=b_1_15&amp;otracker=browse&amp;fm=organic&amp;iid=2ebc1706-fc97-456e-b25c-cd34d1e47599.FNDD9YJCCNXSYVVW.SEARCH&amp;ppt=None&amp;ppn=None&amp;ssid=v56wk2lk5s0000001653931805585\" rel=\"noopener noreferrer\" target=\"_blank\" title=\"Lakmé Perfecting Liquid Foundation\">Lakmé Perfecting Liquid Foundation</a>,\n",
       " <a class=\"s1Q9rs\" href=\"/maybelline-new-york-instant-age-rewind-concealer/p/itm7c065d81a032b?pid=CLRF6U45BCXGHZRK&amp;lid=LSTCLRF6U45BCXGHZRKF3TYXY&amp;marketplace=FLIPKART&amp;store=g9b%2Fffi%2Fdzu&amp;srno=b_1_16&amp;otracker=browse&amp;fm=organic&amp;iid=en_62zjlOUbGRmfR%2BzMyK7hDm6tpfPMWQ8Gy1sAiOOAP5nUFqrDuVEo7YJROfmT7y22gKI3hLffonXjX%2FGo7tLTfg%3D%3D&amp;ppt=None&amp;ppn=None&amp;ssid=v56wk2lk5s0000001653931805585\" rel=\"noopener noreferrer\" target=\"_blank\" title=\"MAYBELLINE NEW YORK Instant Age Rewind Concealer\">MAYBELLINE NEW YORK Instant Age Rewind Concealer</a>,\n",
       " <a class=\"s1Q9rs\" href=\"/maybelline-new-york-fit-me-matte-poreless-liquid-tube-foundation/p/itm27d11a51b0f76?pid=FNDFBGVMFXNZSZM5&amp;lid=LSTFNDFBGVMFXNZSZM5VSX6IY&amp;marketplace=FLIPKART&amp;store=g9b%2Fffi%2Fdzu&amp;srno=b_1_17&amp;otracker=browse&amp;fm=organic&amp;iid=2ebc1706-fc97-456e-b25c-cd34d1e47599.FNDFBGVMFXNZSZM5.SEARCH&amp;ppt=None&amp;ppn=None&amp;ssid=v56wk2lk5s0000001653931805585\" rel=\"noopener noreferrer\" target=\"_blank\" title=\"MAYBELLINE NEW YORK Fit Me Matte+Poreless Liquid Tube Foundation\">MAYBELLINE NEW YORK Fit Me Matte+Poreless Liquid Tube F...</a>,\n",
       " <a class=\"s1Q9rs\" href=\"/lakm-face-compact-coral/p/itmdbfbdd0d84d2d?pid=CMPG5K3DZG5QGQRM&amp;lid=LSTCMPG5K3DZG5QGQRME6WKVH&amp;marketplace=FLIPKART&amp;store=g9b%2Fffi%2Fdzu&amp;srno=b_1_18&amp;otracker=browse&amp;fm=organic&amp;iid=2ebc1706-fc97-456e-b25c-cd34d1e47599.CMPG5K3DZG5QGQRM.SEARCH&amp;ppt=None&amp;ppn=None&amp;ssid=v56wk2lk5s0000001653931805585\" rel=\"noopener noreferrer\" target=\"_blank\" title=\"Lakmé Face It Compact Coral Compact\">Lakmé Face It Compact Coral Compact</a>,\n",
       " <a class=\"s1Q9rs\" href=\"/skinplus-waterproof-mushroom-head-cushion-foundation/p/itm2a7c4be722611?pid=FNDGFGBPXKZFSA6C&amp;lid=LSTFNDGFGBPXKZFSA6CN3KHDJ&amp;marketplace=FLIPKART&amp;store=g9b%2Fffi%2Fdzu&amp;srno=b_1_19&amp;otracker=browse&amp;fm=organic&amp;iid=2ebc1706-fc97-456e-b25c-cd34d1e47599.FNDGFGBPXKZFSA6C.SEARCH&amp;ppt=None&amp;ppn=None&amp;ssid=v56wk2lk5s0000001653931805585\" rel=\"noopener noreferrer\" target=\"_blank\" title=\"SKINPLUS Waterproof Mushroom Head Cushion  Foundation\">SKINPLUS Waterproof Mushroom Head Cushion  Foundation</a>,\n",
       " <a class=\"s1Q9rs\" href=\"/quench-botanics-mon-cherry-dirt-dissolving-cleansing-balm-makeup-remover/p/itm713b71a4b1544?pid=MURG8597SFRGG2WP&amp;lid=LSTMURG8597SFRGG2WPLPLXLZ&amp;marketplace=FLIPKART&amp;store=g9b%2Fffi%2Fdzu&amp;srno=b_1_20&amp;otracker=browse&amp;fm=organic&amp;iid=en_62zjlOUbGRmfR%2BzMyK7hDm6tpfPMWQ8Gy1sAiOOAP5lbUldJCppNo7yFNkT6hEaUi%2FDkL44U%2BJEBw2BumK1ptA%3D%3D&amp;ppt=None&amp;ppn=None&amp;ssid=v56wk2lk5s0000001653931805585\" rel=\"noopener noreferrer\" target=\"_blank\" title=\"Quench Botanics Mon Cherry Dirt Dissolving Cleansing Balm Makeup Remover\">Quench Botanics Mon Cherry Dirt Dissolving Cleansing Ba...</a>,\n",
       " <a class=\"s1Q9rs\" href=\"/lakm-absolute-blur-perfect-makeup-primer-10-g/p/itmeef5014ea5871?pid=PRMFTRH8WYM2KECG&amp;lid=LSTPRMFTRH8WYM2KECGIMD3MV&amp;marketplace=FLIPKART&amp;store=g9b%2Fffi%2Fdzu&amp;srno=b_1_21&amp;otracker=browse&amp;fm=organic&amp;iid=2ebc1706-fc97-456e-b25c-cd34d1e47599.PRMFTRH8WYM2KECG.SEARCH&amp;ppt=None&amp;ppn=None&amp;ssid=v56wk2lk5s0000001653931805585\" rel=\"noopener noreferrer\" target=\"_blank\" title=\"Lakmé Absolute Blur Perfect Makeup  Primer  - 10 g\">Lakmé Absolute Blur Perfect Makeup  Primer  - 10 g</a>,\n",
       " <a class=\"s1Q9rs\" href=\"/lakm-9-5-complexion-care-cc-cream-foundation/p/itm658e13bfc3c55?pid=FNDEVYMYJZ2WS9FG&amp;lid=LSTFNDEVYMYJZ2WS9FGGDNA2U&amp;marketplace=GROCERY&amp;store=g9b%2Fffi%2Fdzu&amp;srno=b_1_22&amp;otracker=browse&amp;fm=organic&amp;iid=2ebc1706-fc97-456e-b25c-cd34d1e47599.FNDEVYMYJZ2WS9FG.SEARCH&amp;ppt=None&amp;ppn=None&amp;ssid=v56wk2lk5s0000001653931805585\" rel=\"noopener noreferrer\" target=\"_blank\" title=\"Lakmé 9 to 5 Complexion Care CC Cream Foundation\">Lakmé 9 to 5 Complexion Care CC Cream Foundation</a>,\n",
       " <a class=\"s1Q9rs\" href=\"/lakm-invisible-finish-spf-8-foundation/p/itm5b9fe7cd872f9?pid=FNDD9YJCSXF5M549&amp;lid=LSTFNDD9YJCSXF5M549VVXARR&amp;marketplace=FLIPKART&amp;store=g9b%2Fffi%2Fdzu&amp;srno=b_1_23&amp;otracker=browse&amp;fm=organic&amp;iid=2ebc1706-fc97-456e-b25c-cd34d1e47599.FNDD9YJCSXF5M549.SEARCH&amp;ppt=None&amp;ppn=None&amp;ssid=v56wk2lk5s0000001653931805585\" rel=\"noopener noreferrer\" target=\"_blank\" title=\"Lakmé Invisible Finish SPF 8 Foundation\">Lakmé Invisible Finish SPF 8 Foundation</a>,\n",
       " <a class=\"s1Q9rs\" href=\"/marie-claire-paris-matte-set-glow-compact/p/itm7988290aec39e?pid=CMPG44YVHRGP7DDT&amp;lid=LSTCMPG44YVHRGP7DDTWX6XGH&amp;marketplace=FLIPKART&amp;store=g9b%2Fffi%2Fdzu&amp;srno=b_1_24&amp;otracker=browse&amp;fm=organic&amp;iid=en_62zjlOUbGRmfR%2BzMyK7hDm6tpfPMWQ8Gy1sAiOOAP5mg7FTmU7zQg1Nz1nNFBWGa9S9Ns3sOhNyg8%2FtZK1cB5g%3D%3D&amp;ppt=None&amp;ppn=None&amp;ssid=v56wk2lk5s0000001653931805585\" rel=\"noopener noreferrer\" target=\"_blank\" title=\"Marie Claire Paris Matte Set Glow Compact\">Marie Claire Paris Matte Set Glow Compact</a>,\n",
       " <a class=\"s1Q9rs\" href=\"/dabur-gulabari-rose-glow-face-cleanser-cleanse-moisturise-refresh-makeup-remover/p/itm2d2ebc197416b?pid=CNRGF2YCH7URGCAJ&amp;lid=LSTCNRGF2YCH7URGCAJHGVNXC&amp;marketplace=FLIPKART&amp;store=g9b%2Fffi%2Fdzu&amp;srno=b_1_25&amp;otracker=browse&amp;fm=organic&amp;iid=2ebc1706-fc97-456e-b25c-cd34d1e47599.CNRGF2YCH7URGCAJ.SEARCH&amp;ppt=None&amp;ppn=None&amp;ssid=v56wk2lk5s0000001653931805585\" rel=\"noopener noreferrer\" target=\"_blank\" title=\"Dabur Gulabari Rose Glow face Cleanser : Cleanse , Moisturise , Refresh Makeup Remover\">Dabur Gulabari Rose Glow face Cleanser : Cleanse , Mois...</a>,\n",
       " <a class=\"s1Q9rs\" href=\"/garnier-skin-naturals-micellar-oil-infused-cleansing-water-makeup-remover/p/itmf2mxxzbtehqdy?pid=CNRF2MXX3FTXCZE8&amp;lid=LSTCNRF2MXX3FTXCZE8VNFDJK&amp;marketplace=FLIPKART&amp;store=g9b%2Fffi%2Fdzu&amp;srno=b_1_26&amp;otracker=browse&amp;fm=organic&amp;iid=2ebc1706-fc97-456e-b25c-cd34d1e47599.CNRF2MXX3FTXCZE8.SEARCH&amp;ppt=None&amp;ppn=None&amp;ssid=v56wk2lk5s0000001653931805585\" rel=\"noopener noreferrer\" target=\"_blank\" title=\"GARNIER Skin Naturals, Micellar Oil-Infused Cleansing Water Makeup Remover\">GARNIER Skin Naturals, Micellar Oil-Infused Cleansing W...</a>,\n",
       " <a class=\"s1Q9rs\" href=\"/m-a-r-s-5-function-make-up-base-face-primer-30-ml/p/itmf23yybaqfta8w?pid=PRMF22Z3GWGRGFV8&amp;lid=LSTPRMF22Z3GWGRGFV8GPKYQK&amp;marketplace=FLIPKART&amp;store=g9b%2Fffi%2Fdzu&amp;spotlightTagId=BestvalueId_g9b%2Fffi%2Fdzu&amp;srno=b_1_27&amp;otracker=browse&amp;fm=organic&amp;iid=2ebc1706-fc97-456e-b25c-cd34d1e47599.PRMF22Z3GWGRGFV8.SEARCH&amp;ppt=None&amp;ppn=None&amp;ssid=v56wk2lk5s0000001653931805585\" rel=\"noopener noreferrer\" target=\"_blank\" title=\"M.A.R.S 5 Function Make-up Base Face  Primer  - 30 ml\">M.A.R.S 5 Function Make-up Base Face  Primer  - 30 ml</a>,\n",
       " <a class=\"s1Q9rs\" href=\"/marie-claire-paris-matte-set-glow-compact/p/itmf571fe3b0bc53?pid=CMPG44YVRMKKG6KJ&amp;lid=LSTCMPG44YVRMKKG6KJD4VDGM&amp;marketplace=FLIPKART&amp;store=g9b%2Fffi%2Fdzu&amp;srno=b_1_28&amp;otracker=browse&amp;fm=organic&amp;iid=en_62zjlOUbGRmfR%2BzMyK7hDm6tpfPMWQ8Gy1sAiOOAP5n0fbm%2B9CM9xGbcdOOAIrflntMZKlm7tXMb735obbmTfw%3D%3D&amp;ppt=None&amp;ppn=None&amp;ssid=v56wk2lk5s0000001653931805585\" rel=\"noopener noreferrer\" target=\"_blank\" title=\"Marie Claire Paris Matte Set Glow Compact\">Marie Claire Paris Matte Set Glow Compact</a>,\n",
       " <a class=\"s1Q9rs\" href=\"/lakm-face-compact-shell/p/itme8cf26e34f09d?pid=CMPG5K3DXWXCE8MY&amp;lid=LSTCMPG5K3DXWXCE8MYWTTOZT&amp;marketplace=FLIPKART&amp;store=g9b%2Fffi%2Fdzu&amp;srno=b_1_29&amp;otracker=browse&amp;fm=organic&amp;iid=2ebc1706-fc97-456e-b25c-cd34d1e47599.CMPG5K3DXWXCE8MY.SEARCH&amp;ppt=None&amp;ppn=None&amp;ssid=v56wk2lk5s0000001653931805585\" rel=\"noopener noreferrer\" target=\"_blank\" title=\"Lakmé Face It Compact Shell Compact\">Lakmé Face It Compact Shell Compact</a>,\n",
       " <a class=\"s1Q9rs\" href=\"/maybelline-new-york-fit-me-compact-powder-310-8-g-pack-2/p/itmdf8dfdd0f2de1?pid=CMPFZH7NFHWFZBWM&amp;lid=LSTCMPFZH7NFHWFZBWMY90DVI&amp;marketplace=FLIPKART&amp;store=g9b%2Fffi%2Fdzu&amp;srno=b_1_30&amp;otracker=browse&amp;fm=organic&amp;iid=2ebc1706-fc97-456e-b25c-cd34d1e47599.CMPFZH7NFHWFZBWM.SEARCH&amp;ppt=None&amp;ppn=None&amp;ssid=v56wk2lk5s0000001653931805585\" rel=\"noopener noreferrer\" target=\"_blank\" title=\"MAYBELLINE NEW YORK Fit Me Compact Powder - 310, 8 g (Pack of 2) Compact\">MAYBELLINE NEW YORK Fit Me Compact Powder - 310, 8 g (P...</a>,\n",
       " <a class=\"s1Q9rs\" href=\"/faces-canada-weightless-matte-oil-control-compact-shea-butter-spf-20/p/itmd811bc22be3b5?pid=CMPFJX6U86P5K9JY&amp;lid=LSTCMPFJX6U86P5K9JYZVNZKG&amp;marketplace=FLIPKART&amp;store=g9b%2Fffi%2Fdzu&amp;srno=b_1_31&amp;otracker=browse&amp;fm=organic&amp;iid=2ebc1706-fc97-456e-b25c-cd34d1e47599.CMPFJX6U86P5K9JY.SEARCH&amp;ppt=None&amp;ppn=None&amp;ssid=v56wk2lk5s0000001653931805585\" rel=\"noopener noreferrer\" target=\"_blank\" title=\"FACES CANADA Weightless Matte Oil Control Compact with Shea Butter and SPF 20 Compact\">FACES CANADA Weightless Matte Oil Control Compact with ...</a>,\n",
       " <a class=\"s1Q9rs\" href=\"/flemmi-fashion-makeup-kit-mini-hellokotty-5-peice-brush-6-sponges-eyeliner-black/p/itm36fb34ebf1ebc?pid=SJUGEG3MUGGEK5KQ&amp;lid=LSTSJUGEG3MUGGEK5KQGVQKEG&amp;marketplace=FLIPKART&amp;store=g9b%2Fffi%2Fdzu&amp;srno=b_1_32&amp;otracker=browse&amp;fm=organic&amp;iid=en_62zjlOUbGRmfR%2BzMyK7hDm6tpfPMWQ8Gy1sAiOOAP5lfbGFdkLkwjURUs0AGnv5xgFUXpEkOkSUwhpFcIyN7kg%3D%3D&amp;ppt=None&amp;ppn=None&amp;ssid=v56wk2lk5s0000001653931805585\" rel=\"noopener noreferrer\" target=\"_blank\" title=\"Flemmi Fashion Makeup kit Mini+Hellokotty 5 peice Brush+6 makeup sponges+Eyeliner Black\">Flemmi Fashion Makeup kit Mini+Hellokotty 5 peice Brush...</a>,\n",
       " <a class=\"s1Q9rs\" href=\"/garnier-skin-naturals-micellar-cleansing-water-makeup-remover/p/itmf7yz84bnkkgqq?pid=CNRFFZQZNYX7NJNK&amp;lid=LSTCNRFFZQZNYX7NJNKASOCNY&amp;marketplace=FLIPKART&amp;store=g9b%2Fffi%2Fdzu&amp;srno=b_1_33&amp;otracker=browse&amp;fm=organic&amp;iid=2ebc1706-fc97-456e-b25c-cd34d1e47599.CNRFFZQZNYX7NJNK.SEARCH&amp;ppt=None&amp;ppn=None&amp;ssid=v56wk2lk5s0000001653931805585\" rel=\"noopener noreferrer\" target=\"_blank\" title=\"GARNIER Skin Naturals, Micellar Cleansing Water Makeup Remover\">GARNIER Skin Naturals, Micellar Cleansing Water Makeup ...</a>,\n",
       " <a class=\"s1Q9rs\" href=\"/m-a-r-s-3in1-matte-compact-powder/p/itm32be0a8edcbb4?pid=CMPFMBJ4TXDRMKAG&amp;lid=LSTCMPFMBJ4TXDRMKAG38BX5O&amp;marketplace=FLIPKART&amp;store=g9b%2Fffi%2Fdzu&amp;srno=b_1_34&amp;otracker=browse&amp;fm=organic&amp;iid=2ebc1706-fc97-456e-b25c-cd34d1e47599.CMPFMBJ4TXDRMKAG.SEARCH&amp;ppt=None&amp;ppn=None&amp;ssid=v56wk2lk5s0000001653931805585\" rel=\"noopener noreferrer\" target=\"_blank\" title=\"M.A.R.S 3in1 Matte Compact Powder Compact\">M.A.R.S 3in1 Matte Compact Powder Compact</a>,\n",
       " <a class=\"s1Q9rs\" href=\"/mars-4-shade-illuminating-glow-brick-highlighter-palette-blusher-glowzilla-face-kit/p/itmc84566256d15f?pid=HGLG5V3PZMRWNPS9&amp;lid=LSTHGLG5V3PZMRWNPS9LM1II9&amp;marketplace=FLIPKART&amp;store=g9b%2Fffi%2Fdzu&amp;srno=b_1_35&amp;otracker=browse&amp;fm=organic&amp;iid=2ebc1706-fc97-456e-b25c-cd34d1e47599.HGLG5V3PZMRWNPS9.SEARCH&amp;ppt=None&amp;ppn=None&amp;ssid=v56wk2lk5s0000001653931805585\" rel=\"noopener noreferrer\" target=\"_blank\" title=\"MARS 4 Shade Illuminating Glow Brick Highlighter Palette Blusher GlowZilla Face Kit  Highlighter\">MARS 4 Shade Illuminating Glow Brick Highlighter Palett...</a>,\n",
       " <a class=\"s1Q9rs\" href=\"/maybelline-new-york-fit-me-matte-plus-poreless-powder-compact/p/itmaca25007ae84e?pid=CMPEVPWJY3WD5EUH&amp;lid=LSTCMPEVPWJY3WD5EUHGXRDSS&amp;marketplace=FLIPKART&amp;store=g9b%2Fffi%2Fdzu&amp;srno=b_1_36&amp;otracker=browse&amp;fm=organic&amp;iid=en_62zjlOUbGRmfR%2BzMyK7hDm6tpfPMWQ8Gy1sAiOOAP5l%2F7J08nTEfVmjEDH8C02pMoeqmyf2evadmoTHhpt6LZQ%3D%3D&amp;ppt=None&amp;ppn=None&amp;ssid=v56wk2lk5s0000001653931805585\" rel=\"noopener noreferrer\" target=\"_blank\" title=\"MAYBELLINE NEW YORK Fit Me Matte Plus Poreless Powder Compact\">MAYBELLINE NEW YORK Fit Me Matte Plus Poreless Powder C...</a>,\n",
       " <a class=\"s1Q9rs\" href=\"/swiss-beauty-liquid-concealer-sb-1505-05-medium-moyen/p/itmd411afb196b47?pid=CLRFMX4FEK66BKRT&amp;lid=LSTCLRFMX4FEK66BKRTFGZOEX&amp;marketplace=FLIPKART&amp;store=g9b%2Fffi%2Fdzu&amp;srno=b_1_37&amp;otracker=browse&amp;fm=organic&amp;iid=2ebc1706-fc97-456e-b25c-cd34d1e47599.CLRFMX4FEK66BKRT.SEARCH&amp;ppt=None&amp;ppn=None&amp;ssid=v56wk2lk5s0000001653931805585\" rel=\"noopener noreferrer\" target=\"_blank\" title=\"SWISS BEAUTY LIQUID CONCEALER SB-1505 05-Medium-Moyen Concealer\">SWISS BEAUTY LIQUID CONCEALER SB-1505 05-Medium-Moyen C...</a>,\n",
       " <a class=\"s1Q9rs\" href=\"/nyn-huda-waterproof-concealer-bb-cc-cream-foundation/p/itmc3c4a202a5834?pid=FNDGD4GNTHXZZUY2&amp;lid=LSTFNDGD4GNTHXZZUY2XGLP1O&amp;marketplace=FLIPKART&amp;store=g9b%2Fffi%2Fdzu&amp;srno=b_1_38&amp;otracker=browse&amp;fm=organic&amp;iid=2ebc1706-fc97-456e-b25c-cd34d1e47599.FNDGD4GNTHXZZUY2.SEARCH&amp;ppt=None&amp;ppn=None&amp;ssid=v56wk2lk5s0000001653931805585\" rel=\"noopener noreferrer\" target=\"_blank\" title=\"NYN HUDA Waterproof Concealer BB and CC Cream  Foundation\">NYN HUDA Waterproof Concealer BB and CC Cream  Foundati...</a>,\n",
       " <a class=\"s1Q9rs\" href=\"/m-a-r-s-5-color-matte-finish-waterproof-contour-palette-concealer/p/itmfc8e7rygzsvrm?pid=CLRFC7BGUPNSGWWS&amp;lid=LSTCLRFC7BGUPNSGWWSVRYO38&amp;marketplace=FLIPKART&amp;store=g9b%2Fffi%2Fdzu&amp;srno=b_1_39&amp;otracker=browse&amp;fm=organic&amp;iid=2ebc1706-fc97-456e-b25c-cd34d1e47599.CLRFC7BGUPNSGWWS.SEARCH&amp;ppt=None&amp;ppn=None&amp;ssid=v56wk2lk5s0000001653931805585\" rel=\"noopener noreferrer\" target=\"_blank\" title=\"M.A.R.S 5 Color Matte Finish Waterproof Contour Palette  Concealer\">M.A.R.S 5 Color Matte Finish Waterproof Contour Palette...</a>,\n",
       " <a class=\"s1Q9rs\" href=\"/shryoan-contour-highlighter-shading-powder/p/itm323ec53e3be50?pid=HGLFH9VSJ87FCG7U&amp;lid=LSTHGLFH9VSJ87FCG7UPHAJC6&amp;marketplace=FLIPKART&amp;store=g9b%2Fffi%2Fdzu&amp;srno=b_1_40&amp;otracker=browse&amp;fm=organic&amp;iid=en_62zjlOUbGRmfR%2BzMyK7hDm6tpfPMWQ8Gy1sAiOOAP5lU4CdfK3Usdev7FpTXZNrftsP8m8si4vI%2BFAbXBaogzQ%3D%3D&amp;ppt=None&amp;ppn=None&amp;ssid=v56wk2lk5s0000001653931805585\" rel=\"noopener noreferrer\" target=\"_blank\" title=\"Shryoan Contour &amp; Highlighter Shading Powder Highlighter\">Shryoan Contour &amp; Highlighter Shading Powder Highlighte...</a>]"
      ]
     },
     "execution_count": 36,
     "metadata": {},
     "output_type": "execute_result"
    }
   ],
   "source": [
    "product_name"
   ]
  },
  {
   "cell_type": "code",
   "execution_count": 37,
   "id": "8b7822a3",
   "metadata": {},
   "outputs": [],
   "source": [
    "product_link=[]\n",
    "product_title=[]"
   ]
  },
  {
   "cell_type": "code",
   "execution_count": 38,
   "id": "57347a00",
   "metadata": {},
   "outputs": [],
   "source": [
    "for item in product_name:\n",
    "    product_title.append(item.text)\n",
    "    link =\"https://www.nykaa.com\"\n",
    "    product_link.append(link)"
   ]
  },
  {
   "cell_type": "code",
   "execution_count": 40,
   "id": "63ac145b",
   "metadata": {},
   "outputs": [
    {
     "data": {
      "text/plain": [
       "['Lakmé Invisible Finish SPF 8 Foundation',\n",
       " 'Lakmé Absolute Blur Perfect Primer  - 30 g',\n",
       " 'Lakmé Face It Compact Marble Compact',\n",
       " 'Lakmé Sun Expert Ultra Matte SPF40 PA+++ 1 units Compac...',\n",
       " 'Lakmé 9 to 5 Naturale Aloe Aqua Gel Primer  - 50 g',\n",
       " 'MAYBELLINE NEW YORK Fit Me Shade 230 Compact Powder, 8g...',\n",
       " 'MAYBELLINE NEW YORK Fit Me Shade 128 Compact Powder, 8g...',\n",
       " 'Marie Claire Paris SPF 45 Matte Compact',\n",
       " 'Lakmé Perfect Radiance Compact',\n",
       " 'Lakmé 9 to 5 Complexion Care Face Cream - Bronze Founda...',\n",
       " 'Lakmé 9 to 5 Complexion Care Face Cream - Beige Foundat...',\n",
       " 'Earth Rhythm Makeup Removal Reusable Cleansing Pads, Ea...',\n",
       " 'Lakmé Face It Compact Pearl Compact',\n",
       " 'MAYBELLINE NEW YORK Fit Me Shade 115 Compact Powder, 8g...',\n",
       " 'Lakmé Perfecting Liquid Foundation',\n",
       " 'MAYBELLINE NEW YORK Instant Age Rewind Concealer',\n",
       " 'MAYBELLINE NEW YORK Fit Me Matte+Poreless Liquid Tube F...',\n",
       " 'Lakmé Face It Compact Coral Compact',\n",
       " 'SKINPLUS Waterproof Mushroom Head Cushion  Foundation',\n",
       " 'Quench Botanics Mon Cherry Dirt Dissolving Cleansing Ba...',\n",
       " 'Lakmé Absolute Blur Perfect Makeup  Primer  - 10 g',\n",
       " 'Lakmé 9 to 5 Complexion Care CC Cream Foundation',\n",
       " 'Lakmé Invisible Finish SPF 8 Foundation',\n",
       " 'Marie Claire Paris Matte Set Glow Compact',\n",
       " 'Dabur Gulabari Rose Glow face Cleanser : Cleanse , Mois...',\n",
       " 'GARNIER Skin Naturals, Micellar Oil-Infused Cleansing W...',\n",
       " 'M.A.R.S 5 Function Make-up Base Face  Primer  - 30 ml',\n",
       " 'Marie Claire Paris Matte Set Glow Compact',\n",
       " 'Lakmé Face It Compact Shell Compact',\n",
       " 'MAYBELLINE NEW YORK Fit Me Compact Powder - 310, 8 g (P...',\n",
       " 'FACES CANADA Weightless Matte Oil Control Compact with ...',\n",
       " 'Flemmi Fashion Makeup kit Mini+Hellokotty 5 peice Brush...',\n",
       " 'GARNIER Skin Naturals, Micellar Cleansing Water Makeup ...',\n",
       " 'M.A.R.S 3in1 Matte Compact Powder Compact',\n",
       " 'MARS 4 Shade Illuminating Glow Brick Highlighter Palett...',\n",
       " 'MAYBELLINE NEW YORK Fit Me Matte Plus Poreless Powder C...',\n",
       " 'SWISS BEAUTY LIQUID CONCEALER SB-1505 05-Medium-Moyen C...',\n",
       " 'NYN HUDA Waterproof Concealer BB and CC Cream  Foundati...',\n",
       " 'M.A.R.S 5 Color Matte Finish Waterproof Contour Palette...',\n",
       " 'Shryoan Contour & Highlighter Shading Powder Highlighte...']"
      ]
     },
     "execution_count": 40,
     "metadata": {},
     "output_type": "execute_result"
    }
   ],
   "source": [
    "product_title"
   ]
  },
  {
   "cell_type": "code",
   "execution_count": 41,
   "id": "ce4bfe4a",
   "metadata": {},
   "outputs": [],
   "source": [
    "product_rate = soup.select(\"._8VNy32 ._30jeq3\")"
   ]
  },
  {
   "cell_type": "code",
   "execution_count": 42,
   "id": "f0324bb2",
   "metadata": {},
   "outputs": [
    {
     "data": {
      "text/plain": [
       "[<div class=\"_30jeq3\">₹179</div>,\n",
       " <div class=\"_30jeq3\">₹425</div>,\n",
       " <div class=\"_30jeq3\">₹102</div>,\n",
       " <div class=\"_30jeq3\">₹130</div>,\n",
       " <div class=\"_30jeq3\">₹97</div>,\n",
       " <div class=\"_30jeq3\">₹130</div>,\n",
       " <div class=\"_30jeq3\">₹155</div>,\n",
       " <div class=\"_30jeq3\">₹136</div>,\n",
       " <div class=\"_30jeq3\">₹159</div>,\n",
       " <div class=\"_30jeq3\">₹193</div>,\n",
       " <div class=\"_30jeq3\">₹283</div>,\n",
       " <div class=\"_30jeq3\">₹122</div>,\n",
       " <div class=\"_30jeq3\">₹107</div>,\n",
       " <div class=\"_30jeq3\">₹155</div>,\n",
       " <div class=\"_30jeq3\">₹100</div>,\n",
       " <div class=\"_30jeq3\">₹544</div>,\n",
       " <div class=\"_30jeq3\">₹198</div>,\n",
       " <div class=\"_30jeq3\">₹112</div>,\n",
       " <div class=\"_30jeq3\">₹178</div>,\n",
       " <div class=\"_30jeq3\">₹299</div>,\n",
       " <div class=\"_30jeq3\">₹209</div>,\n",
       " <div class=\"_30jeq3\">₹269</div>,\n",
       " <div class=\"_30jeq3\">₹153</div>,\n",
       " <div class=\"_30jeq3\">₹136</div>,\n",
       " <div class=\"_30jeq3\">₹137</div>,\n",
       " <div class=\"_30jeq3\">₹132</div>,\n",
       " <div class=\"_30jeq3\">₹219</div>,\n",
       " <div class=\"_30jeq3\">₹136</div>,\n",
       " <div class=\"_30jeq3\">₹110</div>,\n",
       " <div class=\"_30jeq3\">₹210</div>,\n",
       " <div class=\"_30jeq3\">₹100</div>,\n",
       " <div class=\"_30jeq3\">₹170</div>,\n",
       " <div class=\"_30jeq3\">₹118</div>,\n",
       " <div class=\"_30jeq3\">₹209</div>,\n",
       " <div class=\"_30jeq3\">₹159</div>,\n",
       " <div class=\"_30jeq3\">₹414</div>,\n",
       " <div class=\"_30jeq3\">₹103</div>,\n",
       " <div class=\"_30jeq3\">₹205</div>,\n",
       " <div class=\"_30jeq3\">₹159</div>,\n",
       " <div class=\"_30jeq3\">₹239</div>]"
      ]
     },
     "execution_count": 42,
     "metadata": {},
     "output_type": "execute_result"
    }
   ],
   "source": [
    "product_rate"
   ]
  },
  {
   "cell_type": "code",
   "execution_count": 43,
   "id": "3db11173",
   "metadata": {},
   "outputs": [],
   "source": [
    "product_cost = []\n",
    "product_junk = []\n"
   ]
  },
  {
   "cell_type": "code",
   "execution_count": 44,
   "id": "9d98b8dc",
   "metadata": {},
   "outputs": [],
   "source": [
    "for item in product_rate:\n",
    "    product_cost.append(item.text)\n",
    "    junk = \"https://www.nykaa.com\"\n",
    "    product_junk.append(junk)"
   ]
  },
  {
   "cell_type": "code",
   "execution_count": 45,
   "id": "3a162258",
   "metadata": {},
   "outputs": [
    {
     "data": {
      "text/plain": [
       "['₹179',\n",
       " '₹425',\n",
       " '₹102',\n",
       " '₹130',\n",
       " '₹97',\n",
       " '₹130',\n",
       " '₹155',\n",
       " '₹136',\n",
       " '₹159',\n",
       " '₹193',\n",
       " '₹283',\n",
       " '₹122',\n",
       " '₹107',\n",
       " '₹155',\n",
       " '₹100',\n",
       " '₹544',\n",
       " '₹198',\n",
       " '₹112',\n",
       " '₹178',\n",
       " '₹299',\n",
       " '₹209',\n",
       " '₹269',\n",
       " '₹153',\n",
       " '₹136',\n",
       " '₹137',\n",
       " '₹132',\n",
       " '₹219',\n",
       " '₹136',\n",
       " '₹110',\n",
       " '₹210',\n",
       " '₹100',\n",
       " '₹170',\n",
       " '₹118',\n",
       " '₹209',\n",
       " '₹159',\n",
       " '₹414',\n",
       " '₹103',\n",
       " '₹205',\n",
       " '₹159',\n",
       " '₹239']"
      ]
     },
     "execution_count": 45,
     "metadata": {},
     "output_type": "execute_result"
    }
   ],
   "source": [
    "product_cost"
   ]
  },
  {
   "cell_type": "code",
   "execution_count": 49,
   "id": "ef35c288",
   "metadata": {},
   "outputs": [],
   "source": [
    "import pandas as pd"
   ]
  },
  {
   "cell_type": "code",
   "execution_count": 50,
   "id": "d99ce9f9",
   "metadata": {},
   "outputs": [],
   "source": [
    "product= pd.DataFrame(product_title,columns=[\"Makupproduct_Name\"])"
   ]
  },
  {
   "cell_type": "code",
   "execution_count": 51,
   "id": "f98af837",
   "metadata": {},
   "outputs": [],
   "source": [
    "product[\"Rate\"]= product_cost"
   ]
  },
  {
   "cell_type": "code",
   "execution_count": 52,
   "id": "70436595",
   "metadata": {},
   "outputs": [
    {
     "data": {
      "text/html": [
       "<div>\n",
       "<style scoped>\n",
       "    .dataframe tbody tr th:only-of-type {\n",
       "        vertical-align: middle;\n",
       "    }\n",
       "\n",
       "    .dataframe tbody tr th {\n",
       "        vertical-align: top;\n",
       "    }\n",
       "\n",
       "    .dataframe thead th {\n",
       "        text-align: right;\n",
       "    }\n",
       "</style>\n",
       "<table border=\"1\" class=\"dataframe\">\n",
       "  <thead>\n",
       "    <tr style=\"text-align: right;\">\n",
       "      <th></th>\n",
       "      <th>Makupproduct_Name</th>\n",
       "      <th>Rate</th>\n",
       "    </tr>\n",
       "  </thead>\n",
       "  <tbody>\n",
       "    <tr>\n",
       "      <th>0</th>\n",
       "      <td>Lakmé Invisible Finish SPF 8 Foundation</td>\n",
       "      <td>₹179</td>\n",
       "    </tr>\n",
       "    <tr>\n",
       "      <th>1</th>\n",
       "      <td>Lakmé Absolute Blur Perfect Primer  - 30 g</td>\n",
       "      <td>₹425</td>\n",
       "    </tr>\n",
       "    <tr>\n",
       "      <th>2</th>\n",
       "      <td>Lakmé Face It Compact Marble Compact</td>\n",
       "      <td>₹102</td>\n",
       "    </tr>\n",
       "    <tr>\n",
       "      <th>3</th>\n",
       "      <td>Lakmé Sun Expert Ultra Matte SPF40 PA+++ 1 uni...</td>\n",
       "      <td>₹130</td>\n",
       "    </tr>\n",
       "    <tr>\n",
       "      <th>4</th>\n",
       "      <td>Lakmé 9 to 5 Naturale Aloe Aqua Gel Primer  - ...</td>\n",
       "      <td>₹97</td>\n",
       "    </tr>\n",
       "    <tr>\n",
       "      <th>5</th>\n",
       "      <td>MAYBELLINE NEW YORK Fit Me Shade 230 Compact P...</td>\n",
       "      <td>₹130</td>\n",
       "    </tr>\n",
       "    <tr>\n",
       "      <th>6</th>\n",
       "      <td>MAYBELLINE NEW YORK Fit Me Shade 128 Compact P...</td>\n",
       "      <td>₹155</td>\n",
       "    </tr>\n",
       "    <tr>\n",
       "      <th>7</th>\n",
       "      <td>Marie Claire Paris SPF 45 Matte Compact</td>\n",
       "      <td>₹136</td>\n",
       "    </tr>\n",
       "    <tr>\n",
       "      <th>8</th>\n",
       "      <td>Lakmé Perfect Radiance Compact</td>\n",
       "      <td>₹159</td>\n",
       "    </tr>\n",
       "    <tr>\n",
       "      <th>9</th>\n",
       "      <td>Lakmé 9 to 5 Complexion Care Face Cream - Bron...</td>\n",
       "      <td>₹193</td>\n",
       "    </tr>\n",
       "    <tr>\n",
       "      <th>10</th>\n",
       "      <td>Lakmé 9 to 5 Complexion Care Face Cream - Beig...</td>\n",
       "      <td>₹283</td>\n",
       "    </tr>\n",
       "    <tr>\n",
       "      <th>11</th>\n",
       "      <td>Earth Rhythm Makeup Removal Reusable Cleansing...</td>\n",
       "      <td>₹122</td>\n",
       "    </tr>\n",
       "    <tr>\n",
       "      <th>12</th>\n",
       "      <td>Lakmé Face It Compact Pearl Compact</td>\n",
       "      <td>₹107</td>\n",
       "    </tr>\n",
       "    <tr>\n",
       "      <th>13</th>\n",
       "      <td>MAYBELLINE NEW YORK Fit Me Shade 115 Compact P...</td>\n",
       "      <td>₹155</td>\n",
       "    </tr>\n",
       "    <tr>\n",
       "      <th>14</th>\n",
       "      <td>Lakmé Perfecting Liquid Foundation</td>\n",
       "      <td>₹100</td>\n",
       "    </tr>\n",
       "    <tr>\n",
       "      <th>15</th>\n",
       "      <td>MAYBELLINE NEW YORK Instant Age Rewind Concealer</td>\n",
       "      <td>₹544</td>\n",
       "    </tr>\n",
       "    <tr>\n",
       "      <th>16</th>\n",
       "      <td>MAYBELLINE NEW YORK Fit Me Matte+Poreless Liqu...</td>\n",
       "      <td>₹198</td>\n",
       "    </tr>\n",
       "    <tr>\n",
       "      <th>17</th>\n",
       "      <td>Lakmé Face It Compact Coral Compact</td>\n",
       "      <td>₹112</td>\n",
       "    </tr>\n",
       "    <tr>\n",
       "      <th>18</th>\n",
       "      <td>SKINPLUS Waterproof Mushroom Head Cushion  Fou...</td>\n",
       "      <td>₹178</td>\n",
       "    </tr>\n",
       "    <tr>\n",
       "      <th>19</th>\n",
       "      <td>Quench Botanics Mon Cherry Dirt Dissolving Cle...</td>\n",
       "      <td>₹299</td>\n",
       "    </tr>\n",
       "    <tr>\n",
       "      <th>20</th>\n",
       "      <td>Lakmé Absolute Blur Perfect Makeup  Primer  - ...</td>\n",
       "      <td>₹209</td>\n",
       "    </tr>\n",
       "    <tr>\n",
       "      <th>21</th>\n",
       "      <td>Lakmé 9 to 5 Complexion Care CC Cream Foundation</td>\n",
       "      <td>₹269</td>\n",
       "    </tr>\n",
       "    <tr>\n",
       "      <th>22</th>\n",
       "      <td>Lakmé Invisible Finish SPF 8 Foundation</td>\n",
       "      <td>₹153</td>\n",
       "    </tr>\n",
       "    <tr>\n",
       "      <th>23</th>\n",
       "      <td>Marie Claire Paris Matte Set Glow Compact</td>\n",
       "      <td>₹136</td>\n",
       "    </tr>\n",
       "    <tr>\n",
       "      <th>24</th>\n",
       "      <td>Dabur Gulabari Rose Glow face Cleanser : Clean...</td>\n",
       "      <td>₹137</td>\n",
       "    </tr>\n",
       "    <tr>\n",
       "      <th>25</th>\n",
       "      <td>GARNIER Skin Naturals, Micellar Oil-Infused Cl...</td>\n",
       "      <td>₹132</td>\n",
       "    </tr>\n",
       "    <tr>\n",
       "      <th>26</th>\n",
       "      <td>M.A.R.S 5 Function Make-up Base Face  Primer  ...</td>\n",
       "      <td>₹219</td>\n",
       "    </tr>\n",
       "    <tr>\n",
       "      <th>27</th>\n",
       "      <td>Marie Claire Paris Matte Set Glow Compact</td>\n",
       "      <td>₹136</td>\n",
       "    </tr>\n",
       "    <tr>\n",
       "      <th>28</th>\n",
       "      <td>Lakmé Face It Compact Shell Compact</td>\n",
       "      <td>₹110</td>\n",
       "    </tr>\n",
       "    <tr>\n",
       "      <th>29</th>\n",
       "      <td>MAYBELLINE NEW YORK Fit Me Compact Powder - 31...</td>\n",
       "      <td>₹210</td>\n",
       "    </tr>\n",
       "    <tr>\n",
       "      <th>30</th>\n",
       "      <td>FACES CANADA Weightless Matte Oil Control Comp...</td>\n",
       "      <td>₹100</td>\n",
       "    </tr>\n",
       "    <tr>\n",
       "      <th>31</th>\n",
       "      <td>Flemmi Fashion Makeup kit Mini+Hellokotty 5 pe...</td>\n",
       "      <td>₹170</td>\n",
       "    </tr>\n",
       "    <tr>\n",
       "      <th>32</th>\n",
       "      <td>GARNIER Skin Naturals, Micellar Cleansing Wate...</td>\n",
       "      <td>₹118</td>\n",
       "    </tr>\n",
       "    <tr>\n",
       "      <th>33</th>\n",
       "      <td>M.A.R.S 3in1 Matte Compact Powder Compact</td>\n",
       "      <td>₹209</td>\n",
       "    </tr>\n",
       "    <tr>\n",
       "      <th>34</th>\n",
       "      <td>MARS 4 Shade Illuminating Glow Brick Highlight...</td>\n",
       "      <td>₹159</td>\n",
       "    </tr>\n",
       "    <tr>\n",
       "      <th>35</th>\n",
       "      <td>MAYBELLINE NEW YORK Fit Me Matte Plus Poreless...</td>\n",
       "      <td>₹414</td>\n",
       "    </tr>\n",
       "    <tr>\n",
       "      <th>36</th>\n",
       "      <td>SWISS BEAUTY LIQUID CONCEALER SB-1505 05-Mediu...</td>\n",
       "      <td>₹103</td>\n",
       "    </tr>\n",
       "    <tr>\n",
       "      <th>37</th>\n",
       "      <td>NYN HUDA Waterproof Concealer BB and CC Cream ...</td>\n",
       "      <td>₹205</td>\n",
       "    </tr>\n",
       "    <tr>\n",
       "      <th>38</th>\n",
       "      <td>M.A.R.S 5 Color Matte Finish Waterproof Contou...</td>\n",
       "      <td>₹159</td>\n",
       "    </tr>\n",
       "    <tr>\n",
       "      <th>39</th>\n",
       "      <td>Shryoan Contour &amp; Highlighter Shading Powder H...</td>\n",
       "      <td>₹239</td>\n",
       "    </tr>\n",
       "  </tbody>\n",
       "</table>\n",
       "</div>"
      ],
      "text/plain": [
       "                                    Makupproduct_Name  Rate\n",
       "0             Lakmé Invisible Finish SPF 8 Foundation  ₹179\n",
       "1          Lakmé Absolute Blur Perfect Primer  - 30 g  ₹425\n",
       "2                Lakmé Face It Compact Marble Compact  ₹102\n",
       "3   Lakmé Sun Expert Ultra Matte SPF40 PA+++ 1 uni...  ₹130\n",
       "4   Lakmé 9 to 5 Naturale Aloe Aqua Gel Primer  - ...   ₹97\n",
       "5   MAYBELLINE NEW YORK Fit Me Shade 230 Compact P...  ₹130\n",
       "6   MAYBELLINE NEW YORK Fit Me Shade 128 Compact P...  ₹155\n",
       "7             Marie Claire Paris SPF 45 Matte Compact  ₹136\n",
       "8                      Lakmé Perfect Radiance Compact  ₹159\n",
       "9   Lakmé 9 to 5 Complexion Care Face Cream - Bron...  ₹193\n",
       "10  Lakmé 9 to 5 Complexion Care Face Cream - Beig...  ₹283\n",
       "11  Earth Rhythm Makeup Removal Reusable Cleansing...  ₹122\n",
       "12                Lakmé Face It Compact Pearl Compact  ₹107\n",
       "13  MAYBELLINE NEW YORK Fit Me Shade 115 Compact P...  ₹155\n",
       "14                 Lakmé Perfecting Liquid Foundation  ₹100\n",
       "15   MAYBELLINE NEW YORK Instant Age Rewind Concealer  ₹544\n",
       "16  MAYBELLINE NEW YORK Fit Me Matte+Poreless Liqu...  ₹198\n",
       "17                Lakmé Face It Compact Coral Compact  ₹112\n",
       "18  SKINPLUS Waterproof Mushroom Head Cushion  Fou...  ₹178\n",
       "19  Quench Botanics Mon Cherry Dirt Dissolving Cle...  ₹299\n",
       "20  Lakmé Absolute Blur Perfect Makeup  Primer  - ...  ₹209\n",
       "21   Lakmé 9 to 5 Complexion Care CC Cream Foundation  ₹269\n",
       "22            Lakmé Invisible Finish SPF 8 Foundation  ₹153\n",
       "23          Marie Claire Paris Matte Set Glow Compact  ₹136\n",
       "24  Dabur Gulabari Rose Glow face Cleanser : Clean...  ₹137\n",
       "25  GARNIER Skin Naturals, Micellar Oil-Infused Cl...  ₹132\n",
       "26  M.A.R.S 5 Function Make-up Base Face  Primer  ...  ₹219\n",
       "27          Marie Claire Paris Matte Set Glow Compact  ₹136\n",
       "28                Lakmé Face It Compact Shell Compact  ₹110\n",
       "29  MAYBELLINE NEW YORK Fit Me Compact Powder - 31...  ₹210\n",
       "30  FACES CANADA Weightless Matte Oil Control Comp...  ₹100\n",
       "31  Flemmi Fashion Makeup kit Mini+Hellokotty 5 pe...  ₹170\n",
       "32  GARNIER Skin Naturals, Micellar Cleansing Wate...  ₹118\n",
       "33          M.A.R.S 3in1 Matte Compact Powder Compact  ₹209\n",
       "34  MARS 4 Shade Illuminating Glow Brick Highlight...  ₹159\n",
       "35  MAYBELLINE NEW YORK Fit Me Matte Plus Poreless...  ₹414\n",
       "36  SWISS BEAUTY LIQUID CONCEALER SB-1505 05-Mediu...  ₹103\n",
       "37  NYN HUDA Waterproof Concealer BB and CC Cream ...  ₹205\n",
       "38  M.A.R.S 5 Color Matte Finish Waterproof Contou...  ₹159\n",
       "39  Shryoan Contour & Highlighter Shading Powder H...  ₹239"
      ]
     },
     "execution_count": 52,
     "metadata": {},
     "output_type": "execute_result"
    }
   ],
   "source": [
    "product"
   ]
  },
  {
   "cell_type": "code",
   "execution_count": 54,
   "id": "8e6b978f",
   "metadata": {},
   "outputs": [],
   "source": [
    "product.to_csv(\"assignment.csv\")"
   ]
  },
  {
   "cell_type": "code",
   "execution_count": null,
   "id": "8be6c594",
   "metadata": {},
   "outputs": [],
   "source": []
  }
 ],
 "metadata": {
  "kernelspec": {
   "display_name": "Python 3 (ipykernel)",
   "language": "python",
   "name": "python3"
  },
  "language_info": {
   "codemirror_mode": {
    "name": "ipython",
    "version": 3
   },
   "file_extension": ".py",
   "mimetype": "text/x-python",
   "name": "python",
   "nbconvert_exporter": "python",
   "pygments_lexer": "ipython3",
   "version": "3.9.7"
  }
 },
 "nbformat": 4,
 "nbformat_minor": 5
}
